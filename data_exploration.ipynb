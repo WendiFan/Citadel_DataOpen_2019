{
 "nbformat": 4,
 "nbformat_minor": 2,
 "metadata": {
  "language_info": {
   "name": "python",
   "codemirror_mode": {
    "name": "ipython",
    "version": 3
   }
  },
  "orig_nbformat": 2,
  "file_extension": ".py",
  "mimetype": "text/x-python",
  "name": "python",
  "npconvert_exporter": "python",
  "pygments_lexer": "ipython3",
  "version": 3
 },
 "cells": [
  {
   "cell_type": "code",
   "execution_count": 48,
   "metadata": {},
   "outputs": [],
   "source": [
    "import pandas as pd\n",
    "import numpy as np\n",
    "import warnings\n",
    "import os\n",
    "import re\n",
    "import matplotlib.pyplot as plt\n",
    "import seaborn as sns\n",
    "from sklearn.linear_model import LinearRegression\n",
    "import keras\n",
    "\n",
    "#import glob\n",
    "warnings.filterwarnings('ignore')\n",
    "#os.chdir(\"Dataopen_1109\")"
   ]
  },
  {
   "cell_type": "code",
   "execution_count": 54,
   "metadata": {},
   "outputs": [],
   "source": [
    "data1 = pd.read_csv(\"datasets/dataset_1.csv\")\n",
    "data2 = pd.read_csv(\"datasets/dataset_2.csv\")\n",
    "data3 = pd.read_csv(\"datasets/dataset_3.csv\")\n",
    "data4 = pd.read_csv(\"datasets/dataset_4.csv\")\n",
    "data5 = pd.read_csv(\"datasets/dataset_5.csv\")\n",
    "data6 = pd.read_csv(\"datasets/dataset_6.csv\")\n",
    "EUReferendumData = pd.read_csv(\"datasets/EUReferendumData.csv\")\n",
    "annualPayByConstituency_2019 = pd.read_excel(\"datasets/annualPayByConstituency_2019.xls\")\n",
    "annualPayByConstituency_2016 = pd.read_excel(\"datasets/annualPayByConstituency_2016.xls\")"
   ]
  },
  {
   "cell_type": "code",
   "execution_count": 55,
   "metadata": {},
   "outputs": [
    {
     "data": {
      "text/html": "<div>\n<style scoped>\n    .dataframe tbody tr th:only-of-type {\n        vertical-align: middle;\n    }\n\n    .dataframe tbody tr th {\n        vertical-align: top;\n    }\n\n    .dataframe thead th {\n        text-align: right;\n    }\n</style>\n<table border=\"1\" class=\"dataframe\">\n  <thead>\n    <tr style=\"text-align: right;\">\n      <th></th>\n      <th>Region_Code</th>\n      <th>Area_Code</th>\n      <th>Area</th>\n      <th>Electorate</th>\n      <th>Leave</th>\n      <th>Remain</th>\n    </tr>\n  </thead>\n  <tbody>\n    <tr>\n      <td>0</td>\n      <td>E12000006</td>\n      <td>E06000031</td>\n      <td>Peterborough</td>\n      <td>120892</td>\n      <td>53216</td>\n      <td>34176</td>\n    </tr>\n    <tr>\n      <td>1</td>\n      <td>E12000006</td>\n      <td>E06000032</td>\n      <td>Luton</td>\n      <td>127612</td>\n      <td>47773</td>\n      <td>36708</td>\n    </tr>\n    <tr>\n      <td>2</td>\n      <td>E12000006</td>\n      <td>E06000033</td>\n      <td>Southend-on-Sea</td>\n      <td>128856</td>\n      <td>54522</td>\n      <td>39348</td>\n    </tr>\n    <tr>\n      <td>3</td>\n      <td>E12000006</td>\n      <td>E06000034</td>\n      <td>Thurrock</td>\n      <td>109897</td>\n      <td>57765</td>\n      <td>22151</td>\n    </tr>\n    <tr>\n      <td>4</td>\n      <td>E12000006</td>\n      <td>E06000055</td>\n      <td>Bedford</td>\n      <td>119530</td>\n      <td>44569</td>\n      <td>41497</td>\n    </tr>\n  </tbody>\n</table>\n</div>",
      "text/plain": "  Region_Code  Area_Code             Area  Electorate  Leave  Remain\n0   E12000006  E06000031     Peterborough      120892  53216   34176\n1   E12000006  E06000032            Luton      127612  47773   36708\n2   E12000006  E06000033  Southend-on-Sea      128856  54522   39348\n3   E12000006  E06000034         Thurrock      109897  57765   22151\n4   E12000006  E06000055          Bedford      119530  44569   41497"
     },
     "execution_count": 55,
     "metadata": {},
     "output_type": "execute_result"
    }
   ],
   "source": [
    "df_Referendum = EUReferendumData[['Region_Code', 'Area_Code', 'Area', 'Electorate', 'Leave', 'Remain']]\n",
    "df_Referendum.head()"
   ]
  },
  {
   "cell_type": "code",
   "execution_count": 56,
   "metadata": {},
   "outputs": [
    {
     "data": {
      "text/plain": "Index([              'Description',                      'Code',\n       'Number of jobs (thousand)',                    'Median',\n                      'APC Median',                      'Mean',\n                        'APC Mean',                          10,\n                                20,                          25,\n                                30,                          40,\n                                60,                          70,\n                                75,                          80,\n                                90],\n      dtype='object')"
     },
     "execution_count": 56,
     "metadata": {},
     "output_type": "execute_result"
    }
   ],
   "source": [
    "annualPayByConstituency_2019.columns\n",
    "# df_Pay2019 = annualPayByConstituency_2019[['Description', 'Code', 'Number of jobs (thousand)']]"
   ]
  },
  {
   "cell_type": "code",
   "execution_count": 57,
   "metadata": {},
   "outputs": [
    {
     "name": "stdout",
     "output_type": "stream",
     "text": "<class 'pandas.core.frame.DataFrame'>\nRangeIndex: 653 entries, 0 to 652\nData columns (total 17 columns):\nDescription                  653 non-null object\nCode                         648 non-null object\nNumber of jobs (thousand)    648 non-null object\nMedian                       648 non-null object\nAPC Median                   554 non-null float64\nMean                         648 non-null object\nAPC Mean                     627 non-null float64\n10                           648 non-null object\n20                           648 non-null object\n25                           648 non-null object\n30                           648 non-null object\n40                           648 non-null object\n60                           648 non-null object\n70                           648 non-null object\n75                           648 non-null object\n80                           648 non-null object\n90                           648 non-null object\ndtypes: float64(2), object(15)\nmemory usage: 86.9+ KB\n"
    }
   ],
   "source": [
    "annualPayByConstituency_2019.info()\n"
   ]
  },
  {
   "cell_type": "code",
   "execution_count": 58,
   "metadata": {},
   "outputs": [
    {
     "data": {
      "text/html": "<div>\n<style scoped>\n    .dataframe tbody tr th:only-of-type {\n        vertical-align: middle;\n    }\n\n    .dataframe tbody tr th {\n        vertical-align: top;\n    }\n\n    .dataframe thead th {\n        text-align: right;\n    }\n</style>\n<table border=\"1\" class=\"dataframe\">\n  <thead>\n    <tr style=\"text-align: right;\">\n      <th></th>\n      <th>Total</th>\n      <th>Percent</th>\n    </tr>\n  </thead>\n  <tbody>\n    <tr>\n      <td>APC Median</td>\n      <td>99</td>\n      <td>15.16</td>\n    </tr>\n    <tr>\n      <td>APC Mean</td>\n      <td>26</td>\n      <td>3.98</td>\n    </tr>\n    <tr>\n      <td>90</td>\n      <td>5</td>\n      <td>0.77</td>\n    </tr>\n    <tr>\n      <td>10</td>\n      <td>5</td>\n      <td>0.77</td>\n    </tr>\n    <tr>\n      <td>Code</td>\n      <td>5</td>\n      <td>0.77</td>\n    </tr>\n    <tr>\n      <td>Number of jobs (thousand)</td>\n      <td>5</td>\n      <td>0.77</td>\n    </tr>\n    <tr>\n      <td>Median</td>\n      <td>5</td>\n      <td>0.77</td>\n    </tr>\n    <tr>\n      <td>Mean</td>\n      <td>5</td>\n      <td>0.77</td>\n    </tr>\n    <tr>\n      <td>20</td>\n      <td>5</td>\n      <td>0.77</td>\n    </tr>\n    <tr>\n      <td>80</td>\n      <td>5</td>\n      <td>0.77</td>\n    </tr>\n    <tr>\n      <td>25</td>\n      <td>5</td>\n      <td>0.77</td>\n    </tr>\n    <tr>\n      <td>30</td>\n      <td>5</td>\n      <td>0.77</td>\n    </tr>\n    <tr>\n      <td>40</td>\n      <td>5</td>\n      <td>0.77</td>\n    </tr>\n    <tr>\n      <td>60</td>\n      <td>5</td>\n      <td>0.77</td>\n    </tr>\n    <tr>\n      <td>70</td>\n      <td>5</td>\n      <td>0.77</td>\n    </tr>\n    <tr>\n      <td>75</td>\n      <td>5</td>\n      <td>0.77</td>\n    </tr>\n  </tbody>\n</table>\n</div>",
      "text/plain": "                           Total  Percent\nAPC Median                    99    15.16\nAPC Mean                      26     3.98\n90                             5     0.77\n10                             5     0.77\nCode                           5     0.77\nNumber of jobs (thousand)      5     0.77\nMedian                         5     0.77\nMean                           5     0.77\n20                             5     0.77\n80                             5     0.77\n25                             5     0.77\n30                             5     0.77\n40                             5     0.77\n60                             5     0.77\n70                             5     0.77\n75                             5     0.77"
     },
     "execution_count": 58,
     "metadata": {},
     "output_type": "execute_result"
    }
   ],
   "source": [
    "def missing_percentage(df):\n",
    "    \"\"\"This function takes a DataFrame(df) as input and returns two columns, total missing values and total missing values percentage\"\"\"\n",
    "    total = df.isnull().sum().sort_values(ascending = False)[df.isnull().sum().sort_values(ascending = False) != 0]\n",
    "    percent = round(df.isnull().sum().sort_values(ascending = False)/len(df)*100,2)[round(df.isnull().sum().sort_values(ascending = False)/len(df)*100,2) != 0]\n",
    "    return pd.concat([total, percent], axis=1, keys=['Total','Percent'])\n",
    "\n",
    "missing_percentage(annualPayByConstituency_2019)"
   ]
  }
 ]
}