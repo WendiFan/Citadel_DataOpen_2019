{
 "nbformat": 4,
 "nbformat_minor": 2,
 "metadata": {
  "language_info": {
   "name": "python",
   "codemirror_mode": {
    "name": "ipython",
    "version": 3
   }
  },
  "orig_nbformat": 2,
  "file_extension": ".py",
  "mimetype": "text/x-python",
  "name": "python",
  "npconvert_exporter": "python",
  "pygments_lexer": "ipython3",
  "version": 3
 },
 "cells": [
  {
   "cell_type": "code",
   "execution_count": 6,
   "metadata": {},
   "outputs": [],
   "source": [
    "import pandas as pd\n",
    "import numpy as np\n",
    "import warnings\n",
    "import os\n",
    "import re\n",
    "import matplotlib.pyplot as plt\n",
    "import seaborn as sns\n",
    "from sklearn.linear_model import LinearRegression\n",
    "import keras\n",
    "\n",
    "#import glob\n",
    "warnings.filterwarnings('ignore')\n",
    "#os.chdir(\"Dataopen_1109\")"
   ]
  },
  {
   "cell_type": "code",
   "execution_count": 28,
   "metadata": {},
   "outputs": [],
   "source": [
    "data1 = pd.read_csv(\"datasets/dataset_1.csv\")\n",
    "data2 = pd.read_csv(\"datasets/dataset_2.csv\")\n",
    "data3 = pd.read_csv(\"datasets/dataset_3.csv\")\n",
    "data4 = pd.read_csv(\"datasets/dataset_4.csv\")\n",
    "data5 = pd.read_csv(\"datasets/dataset_5.csv\")\n",
    "data6 = pd.read_csv(\"datasets/dataset_6.csv\")\n",
    "EUReferendumData = pd.read_csv(\"datasets/EUReferendumData.csv\")\n",
    "annualPayByConstituency_2019 = pd.read_excel(\"datasets/annualPayByConstituency_2019.xls\")\n",
    "annualPayByConstituency_2016 = pd.read_excel(\"datasets/annualPayByConstituency_2016.xls\")"
   ]
  },
  {
   "cell_type": "markdown",
   "execution_count": 22,
   "metadata": {},
   "outputs": [
    {
     "data": {
      "text/plain": "Index(['id', 'Region_Code', 'Region', 'Area_Code', 'Area', 'Electorate',\n       'ExpectedBallots', 'VerifiedBallotPapers', 'Pct_Turnout', 'Votes_Cast',\n       'Valid_Votes', 'Remain', 'Leave', 'Rejected_Ballots',\n       'No_official_mark', 'Voting_for_both_answers', 'Writing_or_mark',\n       'Unmarked_or_void', 'Pct_Remain', 'Pct_Leave', 'Pct_Rejected'],\n      dtype='object')"
     },
     "execution_count": 22,
     "metadata": {},
     "output_type": "execute_result"
    }
   ],
   "source": [
    "EUReferendumData.columns"
   ]
  },
  {
   "cell_type": "code",
   "execution_count": 24,
   "metadata": {},
   "outputs": [
    {
     "data": {
      "text/html": "<div>\n<style scoped>\n    .dataframe tbody tr th:only-of-type {\n        vertical-align: middle;\n    }\n\n    .dataframe tbody tr th {\n        vertical-align: top;\n    }\n\n    .dataframe thead th {\n        text-align: right;\n    }\n</style>\n<table border=\"1\" class=\"dataframe\">\n  <thead>\n    <tr style=\"text-align: right;\">\n      <th></th>\n      <th>Region_Code</th>\n      <th>Area_Code</th>\n      <th>Area</th>\n      <th>Electorate</th>\n      <th>Leave</th>\n      <th>Remain</th>\n    </tr>\n  </thead>\n  <tbody>\n    <tr>\n      <td>0</td>\n      <td>E12000006</td>\n      <td>E06000031</td>\n      <td>Peterborough</td>\n      <td>120892</td>\n      <td>53216</td>\n      <td>34176</td>\n    </tr>\n    <tr>\n      <td>1</td>\n      <td>E12000006</td>\n      <td>E06000032</td>\n      <td>Luton</td>\n      <td>127612</td>\n      <td>47773</td>\n      <td>36708</td>\n    </tr>\n    <tr>\n      <td>2</td>\n      <td>E12000006</td>\n      <td>E06000033</td>\n      <td>Southend-on-Sea</td>\n      <td>128856</td>\n      <td>54522</td>\n      <td>39348</td>\n    </tr>\n    <tr>\n      <td>3</td>\n      <td>E12000006</td>\n      <td>E06000034</td>\n      <td>Thurrock</td>\n      <td>109897</td>\n      <td>57765</td>\n      <td>22151</td>\n    </tr>\n    <tr>\n      <td>4</td>\n      <td>E12000006</td>\n      <td>E06000055</td>\n      <td>Bedford</td>\n      <td>119530</td>\n      <td>44569</td>\n      <td>41497</td>\n    </tr>\n  </tbody>\n</table>\n</div>",
      "text/plain": "  Region_Code  Area_Code             Area  Electorate  Leave  Remain\n0   E12000006  E06000031     Peterborough      120892  53216   34176\n1   E12000006  E06000032            Luton      127612  47773   36708\n2   E12000006  E06000033  Southend-on-Sea      128856  54522   39348\n3   E12000006  E06000034         Thurrock      109897  57765   22151\n4   E12000006  E06000055          Bedford      119530  44569   41497"
     },
     "execution_count": 24,
     "metadata": {},
     "output_type": "execute_result"
    }
   ],
   "source": [
    "df_Referendum = EUReferendumData[['Region_Code', 'Area_Code', 'Area', 'Electorate', 'Leave', 'Remain']]\n",
    "df_Referendum.head()"
   ]
  },
  {
   "cell_type": "code",
   "execution_count": 29,
   "metadata": {},
   "outputs": [
    {
     "data": {
      "text/plain": "Index([               'Description',                       'Code',\n                       'Unnamed: 2',                     'Median',\n         'Annual percentage change',                       'Mean',\n       'Annual percentage change.1',                           10,\n                                 20,                           25,\n                                 30,                           40,\n                                 60,                           70,\n                                 75,                           80,\n                                 90],\n      dtype='object')"
     },
     "execution_count": 29,
     "metadata": {},
     "output_type": "execute_result"
    }
   ],
   "source": [
    "annualPayByConstituency_2019.columns\n",
    "df_Pay2019 = annualPayByConstituency_2019[['Description', 'Code', ]]"
   ]
  },
  {
   "cell_type": "code",
   "execution_count": 12,
   "metadata": {},
   "outputs": [
    {
     "data": {
      "text/plain": "array(['Financial Services', 'Industrial Goods & Services', 'Healthcare',\n       'Media', 'Oil & Gas'], dtype=object)"
     },
     "execution_count": 12,
     "metadata": {},
     "output_type": "execute_result"
    }
   ],
   "source": [
    "data5['icb_industry'].unique()"
   ]
  },
  {
   "cell_type": "code",
   "execution_count": 26,
   "metadata": {},
   "outputs": [
    {
     "ename": "TypeError",
     "evalue": "Cannot convert input [0    2014-12-10T12:36:33+00:00\n1    2017-07-05T00:46:00+00:00\n2    2018-05-21T00:42:00+00:00\n3    2017-11-02T19:51:00+00:00\n4    2014-01-07T22:48:08+00:00\n5    2017-12-14T15:26:50+00:00\n6    2017-12-23T12:45:00+00:00\n7    2019-07-26T07:16:00+00:00\n8    2019-04-09T06:13:00+00:00\n9    2019-02-07T11:32:00+00:00\nName: created, dtype: object] of type <class 'pandas.core.series.Series'> to Timestamp",
     "output_type": "error",
     "traceback": [
      "\u001b[1;31m---------------------------------------------------------------------------\u001b[0m",
      "\u001b[1;31mTypeError\u001b[0m                                 Traceback (most recent call last)",
      "\u001b[1;32m<ipython-input-26-f99c47ffa4af>\u001b[0m in \u001b[0;36m<module>\u001b[1;34m\u001b[0m\n\u001b[1;32m----> 1\u001b[1;33m \u001b[0mpd\u001b[0m\u001b[1;33m.\u001b[0m\u001b[0mTimestamp\u001b[0m\u001b[1;33m(\u001b[0m\u001b[0mdata1\u001b[0m\u001b[1;33m.\u001b[0m\u001b[0mcreated\u001b[0m\u001b[1;33m)\u001b[0m\u001b[1;33m\u001b[0m\u001b[1;33m\u001b[0m\u001b[0m\n\u001b[0m",
      "\u001b[1;32mpandas\\_libs\\tslibs\\timestamps.pyx\u001b[0m in \u001b[0;36mpandas._libs.tslibs.timestamps.Timestamp.__new__\u001b[1;34m()\u001b[0m\n",
      "\u001b[1;32mpandas\\_libs\\tslibs\\conversion.pyx\u001b[0m in \u001b[0;36mpandas._libs.tslibs.conversion.convert_to_tsobject\u001b[1;34m()\u001b[0m\n",
      "\u001b[1;31mTypeError\u001b[0m: Cannot convert input [0    2014-12-10T12:36:33+00:00\n1    2017-07-05T00:46:00+00:00\n2    2018-05-21T00:42:00+00:00\n3    2017-11-02T19:51:00+00:00\n4    2014-01-07T22:48:08+00:00\n5    2017-12-14T15:26:50+00:00\n6    2017-12-23T12:45:00+00:00\n7    2019-07-26T07:16:00+00:00\n8    2019-04-09T06:13:00+00:00\n9    2019-02-07T11:32:00+00:00\nName: created, dtype: object] of type <class 'pandas.core.series.Series'> to Timestamp"
     ]
    }
   ],
   "source": [
    "pd.Timestamp(data1.created)"
   ]
  }
 ]
}