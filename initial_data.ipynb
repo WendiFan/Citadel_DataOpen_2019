{
 "nbformat": 4,
 "nbformat_minor": 2,
 "metadata": {
  "language_info": {
   "name": "python",
   "codemirror_mode": {
    "name": "ipython",
    "version": 3
   }
  },
  "orig_nbformat": 2,
  "file_extension": ".py",
  "mimetype": "text/x-python",
  "name": "python",
  "npconvert_exporter": "python",
  "pygments_lexer": "ipython3",
  "version": 3
 },
 "cells": [
  {
   "cell_type": "code",
   "execution_count": 6,
   "metadata": {},
   "outputs": [],
   "source": [
    "import pandas as pd\n",
    "import numpy as np\n",
    "import warnings\n",
    "import os\n",
    "import re\n",
    "import matplotlib.pyplot as plt\n",
    "import seaborn as sns\n",
    "from sklearn.linear_model import LinearRegression\n",
    "import keras\n",
    "\n",
    "#import glob\n",
    "warnings.filterwarnings('ignore')\n",
    "#os.chdir(\"Dataopen_1109\")"
   ]
  },
  {
   "cell_type": "code",
   "execution_count": 10,
   "metadata": {},
   "outputs": [],
   "source": [
    "data1 = pd.read_csv(\"dataset_1.csv\")\n",
    "data2 = pd.read_csv(\"dataset_2.csv\")\n",
    "data3 = pd.read_csv(\"dataset_3.csv\")\n",
    "data4 = pd.read_csv(\"dataset_4.csv\")\n",
    "data5 = pd.read_csv(\"dataset_5.csv\")\n",
    "data6 = pd.read_csv(\"dataset_6.csv\")"
   ]
  },
  {
   "cell_type": "code",
   "execution_count": 11,
   "metadata": {},
   "outputs": [
    {
     "data": {
      "text/plain": "Index(['year', 'month', 'ticker', 'list_date', 'company_name', 'icb_industry',\n       'ice_supersector', 'country_of_incorporation', 'market_cap', 'eps',\n       'p/e', 'p/s'],\n      dtype='object')"
     },
     "execution_count": 11,
     "metadata": {},
     "output_type": "execute_result"
    }
   ],
   "source": [
    "data5.columns"
   ]
  },
  {
   "cell_type": "code",
   "execution_count": 14,
   "metadata": {},
   "outputs": [
    {
     "data": {
      "text/plain": "array(['Financial Services', 'Industrial Goods & Services', 'Healthcare',\n       'Media', 'Oil & Gas'], dtype=object)"
     },
     "execution_count": 14,
     "metadata": {},
     "output_type": "execute_result"
    }
   ],
   "source": [
    "data5['icb_industry'].unique()"
   ]
  },
  {
   "cell_type": "code",
   "execution_count": 26,
   "metadata": {},
   "outputs": [
    {
     "ename": "TypeError",
     "evalue": "Cannot convert input [0    2014-12-10T12:36:33+00:00\n1    2017-07-05T00:46:00+00:00\n2    2018-05-21T00:42:00+00:00\n3    2017-11-02T19:51:00+00:00\n4    2014-01-07T22:48:08+00:00\n5    2017-12-14T15:26:50+00:00\n6    2017-12-23T12:45:00+00:00\n7    2019-07-26T07:16:00+00:00\n8    2019-04-09T06:13:00+00:00\n9    2019-02-07T11:32:00+00:00\nName: created, dtype: object] of type <class 'pandas.core.series.Series'> to Timestamp",
     "output_type": "error",
     "traceback": [
      "\u001b[1;31m---------------------------------------------------------------------------\u001b[0m",
      "\u001b[1;31mTypeError\u001b[0m                                 Traceback (most recent call last)",
      "\u001b[1;32m<ipython-input-26-f99c47ffa4af>\u001b[0m in \u001b[0;36m<module>\u001b[1;34m\u001b[0m\n\u001b[1;32m----> 1\u001b[1;33m \u001b[0mpd\u001b[0m\u001b[1;33m.\u001b[0m\u001b[0mTimestamp\u001b[0m\u001b[1;33m(\u001b[0m\u001b[0mdata1\u001b[0m\u001b[1;33m.\u001b[0m\u001b[0mcreated\u001b[0m\u001b[1;33m)\u001b[0m\u001b[1;33m\u001b[0m\u001b[1;33m\u001b[0m\u001b[0m\n\u001b[0m",
      "\u001b[1;32mpandas\\_libs\\tslibs\\timestamps.pyx\u001b[0m in \u001b[0;36mpandas._libs.tslibs.timestamps.Timestamp.__new__\u001b[1;34m()\u001b[0m\n",
      "\u001b[1;32mpandas\\_libs\\tslibs\\conversion.pyx\u001b[0m in \u001b[0;36mpandas._libs.tslibs.conversion.convert_to_tsobject\u001b[1;34m()\u001b[0m\n",
      "\u001b[1;31mTypeError\u001b[0m: Cannot convert input [0    2014-12-10T12:36:33+00:00\n1    2017-07-05T00:46:00+00:00\n2    2018-05-21T00:42:00+00:00\n3    2017-11-02T19:51:00+00:00\n4    2014-01-07T22:48:08+00:00\n5    2017-12-14T15:26:50+00:00\n6    2017-12-23T12:45:00+00:00\n7    2019-07-26T07:16:00+00:00\n8    2019-04-09T06:13:00+00:00\n9    2019-02-07T11:32:00+00:00\nName: created, dtype: object] of type <class 'pandas.core.series.Series'> to Timestamp"
     ]
    }
   ],
   "source": [
    "pd.Timestamp(data1.created)"
   ]
  }
 ]
}